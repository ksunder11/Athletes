{
 "cells": [
  {
   "cell_type": "code",
   "execution_count": 1,
   "metadata": {},
   "outputs": [],
   "source": [
    "import csv\n",
    "import os"
   ]
  },
  {
   "cell_type": "code",
   "execution_count": 6,
   "metadata": {},
   "outputs": [],
   "source": [
    "def rewrite(filename):\n",
    "    tempname = filename[:-4] + \"_temp.csv\"\n",
    "    with open(filename, 'r') as inf, open(tempname, 'w') as outf:\n",
    "        reader = csv.reader(inf, quoting=csv.QUOTE_NONE)\n",
    "        writer = csv.writer(outf)\n",
    "        for row in reader:\n",
    "            if (len(row) < 13):\n",
    "                continue\n",
    "            if (len(row) > 13):\n",
    "                fixed_event = row[6:len(row) - 6]\n",
    "                row[6] = ''.join(fixed_event)\n",
    "                del row[7:len(row) - 6]\n",
    "            temp = row[12][:-1]\n",
    "            row[12] = temp\n",
    "\n",
    "            writer.writerow(row)\n",
    "            \n",
    "    os.remove(filename)\n",
    "    os.rename(tempname, filename)"
   ]
  },
  {
   "cell_type": "code",
   "execution_count": 18,
   "metadata": {},
   "outputs": [],
   "source": [
    "def rewrite2(name):\n",
    "    filename = \"spiders/raw_output/\" + name + \".csv\"\n",
    "    tempname = \"C:/Users/director/Documents/workspace/Athletes/outputs/\" + name + \".csv\"\n",
    "    header = [\"name\", \"school\", \"grade\", \"date\", \"season\", \"event\", \"race\", \"rank\", \"time\", \"record\", \"team\", \"division\", \"url\"]\n",
    "    with open(filename, 'r') as inf, open(tempname, 'w') as outf:\n",
    "        reader = csv.reader(inf, quoting=csv.QUOTE_NONE)\n",
    "        writer = csv.writer(outf)\n",
    "        writer.writerow(i for i in header)\n",
    "        for row in reader:\n",
    "            if (len(row) == 13):\n",
    "                writer.writerow(row)"
   ]
  },
  {
   "cell_type": "code",
   "execution_count": 19,
   "metadata": {},
   "outputs": [
    {
     "name": "stdout",
     "output_type": "stream",
     "text": [
      "Youth ClubsDone!\n",
      "Middle SchoolDone!\n",
      "CollegeDone!\n",
      "High SchoolDone!\n"
     ]
    }
   ],
   "source": [
    "filenames = [\"Youth Clubs\", \"Middle School\", \"College\", \"High School\"]\n",
    "for name in filenames:\n",
    "    rewrite2(name)\n",
    "    print(name + \"Done!\")"
   ]
  },
  {
   "cell_type": "code",
   "execution_count": null,
   "metadata": {},
   "outputs": [],
   "source": []
  }
 ],
 "metadata": {
  "kernelspec": {
   "display_name": "Python 3",
   "language": "python",
   "name": "python3"
  },
  "language_info": {
   "codemirror_mode": {
    "name": "ipython",
    "version": 3
   },
   "file_extension": ".py",
   "mimetype": "text/x-python",
   "name": "python",
   "nbconvert_exporter": "python",
   "pygments_lexer": "ipython3",
   "version": "3.6.5"
  }
 },
 "nbformat": 4,
 "nbformat_minor": 2
}
